{
  "nbformat": 4,
  "nbformat_minor": 0,
  "metadata": {
    "colab": {
      "name": "CNN.ipynb",
      "provenance": [],
      "collapsed_sections": []
    },
    "kernelspec": {
      "display_name": "Python 3",
      "name": "python3"
    }
  },
  "cells": [
    {
      "cell_type": "code",
      "metadata": {
        "id": "osiBdqrxzjhA"
      },
      "source": [
        "import os\n",
        "import glob\n",
        "\n",
        "import numpy as np\n",
        "from tqdm import tqdm\n",
        "import cv2\n",
        "import tensorflow as tf\n",
        "import matplotlib.pyplot as plt\n",
        "from sklearn.model_selection import train_test_split"
      ],
      "execution_count": null,
      "outputs": []
    },
    {
      "cell_type": "code",
      "metadata": {
        "id": "34PHdFwAEeSH"
      },
      "source": [
        "PATH = '/content/drive/MyDrive/flowers'\n",
        "types = os.listdir(PATH)"
      ],
      "execution_count": null,
      "outputs": []
    },
    {
      "cell_type": "code",
      "metadata": {
        "colab": {
          "base_uri": "https://localhost:8080/"
        },
        "id": "GWYrTMm3fDa0",
        "outputId": "21ef08df-ee00-495d-d474-76c8e0e4ec25"
      },
      "source": [
        "from google.colab import drive\n",
        "drive.mount('/content/drive')"
      ],
      "execution_count": null,
      "outputs": [
        {
          "output_type": "stream",
          "text": [
            "Mounted at /content/drive\n"
          ],
          "name": "stdout"
        }
      ]
    },
    {
      "cell_type": "code",
      "metadata": {
        "id": "EJhdGNdWFhvE"
      },
      "source": [
        "def readimage(dir):\n",
        "    path = os.path.join(dir,'*.jpg')\n",
        "    imgs = []\n",
        "    for img_file in glob.glob(path):\n",
        "        img = cv2.imread(img_file)\n",
        "        img = cv2.resize(img, (320, 240)).astype(np.float32)\n",
        "        img /= .255\n",
        "        imgs.append(img)\n",
        "    return imgs"
      ],
      "execution_count": null,
      "outputs": []
    },
    {
      "cell_type": "code",
      "metadata": {
        "colab": {
          "base_uri": "https://localhost:8080/"
        },
        "id": "qpJ9KYK3FluP",
        "outputId": "f77bb4a5-76bb-47a2-8151-92e476a8b467"
      },
      "source": [
        "i = 0\n",
        "for f_type in tqdm(types):\n",
        "    X = np.array(readimage(os.path.join(PATH, f_type)))\n",
        "    Y= np.array([i for img in glob.glob(os.path.join(PATH,f_type,'*.jpg'))])\n",
        "    i += 1"
      ],
      "execution_count": null,
      "outputs": [
        {
          "output_type": "stream",
          "text": [
            "100%|██████████| 3/3 [02:20<00:00, 46.92s/it]\n"
          ],
          "name": "stderr"
        }
      ]
    },
    {
      "cell_type": "code",
      "metadata": {
        "id": "Ws6kNf4-F5jb"
      },
      "source": [
        "X_train, X_test, Y_train, Y_test = train_test_split(X, Y, test_size=0.2)"
      ],
      "execution_count": null,
      "outputs": []
    },
    {
      "cell_type": "code",
      "metadata": {
        "id": "jXRjCFs2GBc5"
      },
      "source": [
        "from tensorflow.keras import layers\n",
        "\n",
        "num_classes = 3\n",
        "model = tf.keras.Sequential([\n",
        "    #konvolusi\n",
        "    layers.Conv2D(32, 3, activation='relu'),\n",
        "    #average pooling\n",
        "    layers.AveragePooling2D(),\n",
        "    #konvolusi\n",
        "    layers.Conv2D(32, 3, activation='relu'),\n",
        "    #maxpooling\n",
        "    layers.MaxPooling2D(),\n",
        "    # flattern\n",
        "    layers.Flatten(),\n",
        "    # to ANN\n",
        "    # Hidden Layer 1\n",
        "    layers.Dense(128, activation='relu'),\n",
        "    # Hidden Layer 2\n",
        "    layers.Dense(32, activation='softmax'),\n",
        "    layers.Dense(num_classes)\n",
        "])"
      ],
      "execution_count": null,
      "outputs": []
    },
    {
      "cell_type": "code",
      "metadata": {
        "id": "eWOAvJVyGFcq"
      },
      "source": [
        "model.compile(\n",
        "  optimizer='adam',\n",
        "  loss=tf.losses.SparseCategoricalCrossentropy(from_logits=True),\n",
        "  metrics=['accuracy'])"
      ],
      "execution_count": null,
      "outputs": []
    },
    {
      "cell_type": "code",
      "metadata": {
        "colab": {
          "base_uri": "https://localhost:8080/"
        },
        "id": "1mCI2mBzGKC7",
        "outputId": "b7e74ab5-2a8a-4819-efae-1ffe442cbb37"
      },
      "source": [
        "history = model.fit(X_train, Y_train, epochs=50, batch_size=16, validation_split = 0.2)"
      ],
      "execution_count": null,
      "outputs": [
        {
          "output_type": "stream",
          "text": [
            "Epoch 1/50\n",
            "4/4 [==============================] - 6s 1s/step - loss: 0.8682 - accuracy: 0.9531 - val_loss: 0.8071 - val_accuracy: 1.0000\n",
            "Epoch 2/50\n",
            "4/4 [==============================] - 5s 1s/step - loss: 0.8039 - accuracy: 1.0000 - val_loss: 0.7984 - val_accuracy: 1.0000\n",
            "Epoch 3/50\n",
            "4/4 [==============================] - 5s 1s/step - loss: 0.7952 - accuracy: 1.0000 - val_loss: 0.7897 - val_accuracy: 1.0000\n",
            "Epoch 4/50\n",
            "4/4 [==============================] - 5s 1s/step - loss: 0.7865 - accuracy: 1.0000 - val_loss: 0.7811 - val_accuracy: 1.0000\n",
            "Epoch 5/50\n",
            "4/4 [==============================] - 5s 1s/step - loss: 0.7778 - accuracy: 1.0000 - val_loss: 0.7725 - val_accuracy: 1.0000\n",
            "Epoch 6/50\n",
            "4/4 [==============================] - 5s 1s/step - loss: 0.7693 - accuracy: 1.0000 - val_loss: 0.7639 - val_accuracy: 1.0000\n",
            "Epoch 7/50\n",
            "4/4 [==============================] - 5s 1s/step - loss: 0.7607 - accuracy: 1.0000 - val_loss: 0.7555 - val_accuracy: 1.0000\n",
            "Epoch 8/50\n",
            "4/4 [==============================] - 5s 1s/step - loss: 0.7523 - accuracy: 1.0000 - val_loss: 0.7471 - val_accuracy: 1.0000\n",
            "Epoch 9/50\n",
            "4/4 [==============================] - 5s 1s/step - loss: 0.7440 - accuracy: 1.0000 - val_loss: 0.7388 - val_accuracy: 1.0000\n",
            "Epoch 10/50\n",
            "4/4 [==============================] - 5s 1s/step - loss: 0.7357 - accuracy: 1.0000 - val_loss: 0.7306 - val_accuracy: 1.0000\n",
            "Epoch 11/50\n",
            "4/4 [==============================] - 5s 1s/step - loss: 0.7276 - accuracy: 1.0000 - val_loss: 0.7225 - val_accuracy: 1.0000\n",
            "Epoch 12/50\n",
            "4/4 [==============================] - 5s 1s/step - loss: 0.7195 - accuracy: 1.0000 - val_loss: 0.7145 - val_accuracy: 1.0000\n",
            "Epoch 13/50\n",
            "4/4 [==============================] - 5s 1s/step - loss: 0.7115 - accuracy: 1.0000 - val_loss: 0.7066 - val_accuracy: 1.0000\n",
            "Epoch 14/50\n",
            "4/4 [==============================] - 5s 1s/step - loss: 0.7036 - accuracy: 1.0000 - val_loss: 0.6987 - val_accuracy: 1.0000\n",
            "Epoch 15/50\n",
            "4/4 [==============================] - 5s 1s/step - loss: 0.6958 - accuracy: 1.0000 - val_loss: 0.6910 - val_accuracy: 1.0000\n",
            "Epoch 16/50\n",
            "4/4 [==============================] - 5s 1s/step - loss: 0.6881 - accuracy: 1.0000 - val_loss: 0.6833 - val_accuracy: 1.0000\n",
            "Epoch 17/50\n",
            "4/4 [==============================] - 5s 1s/step - loss: 0.6805 - accuracy: 1.0000 - val_loss: 0.6758 - val_accuracy: 1.0000\n",
            "Epoch 18/50\n",
            "4/4 [==============================] - 5s 1s/step - loss: 0.6730 - accuracy: 1.0000 - val_loss: 0.6683 - val_accuracy: 1.0000\n",
            "Epoch 19/50\n",
            "4/4 [==============================] - 5s 1s/step - loss: 0.6655 - accuracy: 1.0000 - val_loss: 0.6609 - val_accuracy: 1.0000\n",
            "Epoch 20/50\n",
            "4/4 [==============================] - 5s 1s/step - loss: 0.6582 - accuracy: 1.0000 - val_loss: 0.6536 - val_accuracy: 1.0000\n",
            "Epoch 21/50\n",
            "4/4 [==============================] - 5s 1s/step - loss: 0.6509 - accuracy: 1.0000 - val_loss: 0.6464 - val_accuracy: 1.0000\n",
            "Epoch 22/50\n",
            "4/4 [==============================] - 5s 1s/step - loss: 0.6437 - accuracy: 1.0000 - val_loss: 0.6393 - val_accuracy: 1.0000\n",
            "Epoch 23/50\n",
            "4/4 [==============================] - 5s 1s/step - loss: 0.6367 - accuracy: 1.0000 - val_loss: 0.6323 - val_accuracy: 1.0000\n",
            "Epoch 24/50\n",
            "4/4 [==============================] - 5s 1s/step - loss: 0.6296 - accuracy: 1.0000 - val_loss: 0.6253 - val_accuracy: 1.0000\n",
            "Epoch 25/50\n",
            "4/4 [==============================] - 5s 1s/step - loss: 0.6227 - accuracy: 1.0000 - val_loss: 0.6184 - val_accuracy: 1.0000\n",
            "Epoch 26/50\n",
            "4/4 [==============================] - 5s 1s/step - loss: 0.6159 - accuracy: 1.0000 - val_loss: 0.6117 - val_accuracy: 1.0000\n",
            "Epoch 27/50\n",
            "4/4 [==============================] - 5s 1s/step - loss: 0.6091 - accuracy: 1.0000 - val_loss: 0.6050 - val_accuracy: 1.0000\n",
            "Epoch 28/50\n",
            "4/4 [==============================] - 5s 1s/step - loss: 0.6025 - accuracy: 1.0000 - val_loss: 0.5983 - val_accuracy: 1.0000\n",
            "Epoch 29/50\n",
            "4/4 [==============================] - 5s 1s/step - loss: 0.5959 - accuracy: 1.0000 - val_loss: 0.5918 - val_accuracy: 1.0000\n",
            "Epoch 30/50\n",
            "4/4 [==============================] - 5s 1s/step - loss: 0.5894 - accuracy: 1.0000 - val_loss: 0.5853 - val_accuracy: 1.0000\n",
            "Epoch 31/50\n",
            "4/4 [==============================] - 5s 1s/step - loss: 0.5829 - accuracy: 1.0000 - val_loss: 0.5790 - val_accuracy: 1.0000\n",
            "Epoch 32/50\n",
            "4/4 [==============================] - 5s 1s/step - loss: 0.5766 - accuracy: 1.0000 - val_loss: 0.5727 - val_accuracy: 1.0000\n",
            "Epoch 33/50\n",
            "4/4 [==============================] - 5s 1s/step - loss: 0.5703 - accuracy: 1.0000 - val_loss: 0.5664 - val_accuracy: 1.0000\n",
            "Epoch 34/50\n",
            "4/4 [==============================] - 5s 1s/step - loss: 0.5641 - accuracy: 1.0000 - val_loss: 0.5603 - val_accuracy: 1.0000\n",
            "Epoch 35/50\n",
            "4/4 [==============================] - 5s 1s/step - loss: 0.5580 - accuracy: 1.0000 - val_loss: 0.5542 - val_accuracy: 1.0000\n",
            "Epoch 36/50\n",
            "4/4 [==============================] - 5s 1s/step - loss: 0.5520 - accuracy: 1.0000 - val_loss: 0.5482 - val_accuracy: 1.0000\n",
            "Epoch 37/50\n",
            "4/4 [==============================] - 5s 1s/step - loss: 0.5460 - accuracy: 1.0000 - val_loss: 0.5423 - val_accuracy: 1.0000\n",
            "Epoch 38/50\n",
            "4/4 [==============================] - 5s 1s/step - loss: 0.5401 - accuracy: 1.0000 - val_loss: 0.5365 - val_accuracy: 1.0000\n",
            "Epoch 39/50\n",
            "4/4 [==============================] - 5s 1s/step - loss: 0.5343 - accuracy: 1.0000 - val_loss: 0.5307 - val_accuracy: 1.0000\n",
            "Epoch 40/50\n",
            "4/4 [==============================] - 5s 1s/step - loss: 0.5285 - accuracy: 1.0000 - val_loss: 0.5250 - val_accuracy: 1.0000\n",
            "Epoch 41/50\n",
            "4/4 [==============================] - 5s 1s/step - loss: 0.5229 - accuracy: 1.0000 - val_loss: 0.5194 - val_accuracy: 1.0000\n",
            "Epoch 42/50\n",
            "4/4 [==============================] - 5s 1s/step - loss: 0.5173 - accuracy: 1.0000 - val_loss: 0.5138 - val_accuracy: 1.0000\n",
            "Epoch 43/50\n",
            "4/4 [==============================] - 5s 1s/step - loss: 0.5117 - accuracy: 1.0000 - val_loss: 0.5083 - val_accuracy: 1.0000\n",
            "Epoch 44/50\n",
            "4/4 [==============================] - 5s 1s/step - loss: 0.5063 - accuracy: 1.0000 - val_loss: 0.5029 - val_accuracy: 1.0000\n",
            "Epoch 45/50\n",
            "4/4 [==============================] - 5s 1s/step - loss: 0.5009 - accuracy: 1.0000 - val_loss: 0.4976 - val_accuracy: 1.0000\n",
            "Epoch 46/50\n",
            "4/4 [==============================] - 5s 1s/step - loss: 0.4956 - accuracy: 1.0000 - val_loss: 0.4923 - val_accuracy: 1.0000\n",
            "Epoch 47/50\n",
            "4/4 [==============================] - 5s 1s/step - loss: 0.4903 - accuracy: 1.0000 - val_loss: 0.4871 - val_accuracy: 1.0000\n",
            "Epoch 48/50\n",
            "4/4 [==============================] - 5s 1s/step - loss: 0.4851 - accuracy: 1.0000 - val_loss: 0.4819 - val_accuracy: 1.0000\n",
            "Epoch 49/50\n",
            "4/4 [==============================] - 5s 1s/step - loss: 0.4800 - accuracy: 1.0000 - val_loss: 0.4768 - val_accuracy: 1.0000\n",
            "Epoch 50/50\n",
            "4/4 [==============================] - 5s 1s/step - loss: 0.4749 - accuracy: 1.0000 - val_loss: 0.4718 - val_accuracy: 1.0000\n"
          ],
          "name": "stdout"
        }
      ]
    },
    {
      "cell_type": "code",
      "metadata": {
        "colab": {
          "base_uri": "https://localhost:8080/",
          "height": 350
        },
        "id": "6fq4uBjcGaiZ",
        "outputId": "9c02143f-4758-4c3b-d000-d0a079f91c72"
      },
      "source": [
        "fig, ax = plt.subplots(1, 2, figsize=(10, 5))\n",
        "metrics = ['accuracy', 'loss']\n",
        "\n",
        "for i in range(2):\n",
        "    ax[i].plot(history.history[metrics[i]])\n",
        "    ax[i].plot(history.history[f'val_{metrics[i]}'])\n",
        "    ax[i].set_title(f'model {metrics[i]}')\n",
        "    ax[i].set_ylabel(metrics[i])\n",
        "    ax[i].set_xlabel('epoch')\n",
        "    ax[i].legend(['train', 'val'], loc='upper left')\n",
        "\n",
        "plt.show()"
      ],
      "execution_count": null,
      "outputs": [
        {
          "output_type": "display_data",
          "data": {
            "image/png": "[encoded data removed]",
            "text/plain": [
              "<Figure size 720x360 with 2 Axes>"
            ]
          },
          "metadata": {
            "tags": [],
            "needs_background": "light"
          }
        }
      ]
    }
  ]
}